{
 "cells": [
  {
   "cell_type": "code",
   "execution_count": 1,
   "metadata": {},
   "outputs": [],
   "source": [
    "from scipy.stats import poisson\n",
    "import matplotlib.pyplot as plt\n",
    "import numpy as np\n",
    "import pandas as pd\n",
    "from scipy.stats import halfnorm\n",
    "from random import sample\n",
    "from random import choices\n",
    "import math\n",
    "import random\n",
    "import statistics"
   ]
  },
  {
   "cell_type": "markdown",
   "metadata": {},
   "source": [
    "# We design an experiment to test the performances of bootstrap method on estimating the standard error of sample mean distribution\n",
    "## We first simulate data from halfnormal distribution and consider this is the population distribution"
   ]
  },
  {
   "cell_type": "code",
   "execution_count": 58,
   "metadata": {},
   "outputs": [
    {
     "data": {
      "image/png": "[encoded data removed]",
      "text/plain": [
       "<Figure size 432x288 with 1 Axes>"
      ]
     },
     "metadata": {
      "needs_background": "light"
     },
     "output_type": "display_data"
    },
    {
     "name": "stdout",
     "output_type": "stream",
     "text": [
      "mean: 0.795\n"
     ]
    }
   ],
   "source": [
    "fig, ax = plt.subplots(1, 1)\n",
    "mean, var, skew, kurt = halfnorm.stats(moments='mvsk')\n",
    "x = np.linspace(halfnorm.ppf(0.0001),\n",
    "                halfnorm.ppf(0.9999), 10000)\n",
    "plt.plot(x, halfnorm.pdf(x),\n",
    "       'cyan', lw=5, alpha=0.6, label='halfnorm pdf')\n",
    "r = halfnorm.rvs(size=10000)\n",
    "ax.hist(r, density=True, histtype='stepfilled', alpha=0.5,bins=20)\n",
    "ax.axvline(np.mean(r),color='red',ls='--',lw='3',label='mean')\n",
    "ax.legend(loc='best', frameon=False)\n",
    "plt.show()\n",
    "mean=np.mean(r)\n",
    "var=np.var(r)\n",
    "print('mean:',round(mean,3))\n",
    "#print(\"var:\",round(var,3))"
   ]
  },
  {
   "cell_type": "markdown",
   "metadata": {},
   "source": [
    "## Then we simulate the sample mean distribution by repeatedly sampling from population distribution"
   ]
  },
  {
   "cell_type": "code",
   "execution_count": 59,
   "metadata": {},
   "outputs": [],
   "source": [
    "#draw samples from real distributions\n",
    "M=[]\n",
    "random.seed(1)\n",
    "for i in range(10000):\n",
    "    sample_mean=np.mean(sample(list(r),100))\n",
    "    M.append(sample_mean) "
   ]
  },
  {
   "cell_type": "code",
   "execution_count": 60,
   "metadata": {},
   "outputs": [
    {
     "name": "stdout",
     "output_type": "stream",
     "text": [
      "mean value: 0.7946\n",
      "se of mean value: 0.0599\n",
      "confidence interval for mean value is [0.6803 , 0.9138]\n"
     ]
    },
    {
     "data": {
      "image/png": "[encoded data removed]",
      "text/plain": [
       "<Figure size 432x288 with 1 Axes>"
      ]
     },
     "metadata": {
      "needs_background": "light"
     },
     "output_type": "display_data"
    }
   ],
   "source": [
    "plt.hist(M,bins=20)\n",
    "plt.axvline(np.mean(M),color='red',label='mean')\n",
    "q1=round(np.quantile(M,q=0.025),4)\n",
    "q2=round(np.quantile(M,q=0.975),4)\n",
    "plt.axvline(q1,color='green',label='95% CI')\n",
    "plt.axvline(q2,color='green')\n",
    "plt.legend()\n",
    "print('mean value:',round(np.mean(M),4))\n",
    "print(\"se of mean value:\",round(math.sqrt(np.var(M)),4))\n",
    "print('confidence interval for mean value is [{} , {}]' .format (q1,q2))"
   ]
  },
  {
   "cell_type": "markdown",
   "metadata": {},
   "source": [
    "## We first define the bootstrap function"
   ]
  },
  {
   "cell_type": "code",
   "execution_count": 61,
   "metadata": {},
   "outputs": [],
   "source": [
    "def bootstrap(sample,B=500,seed=1,func=None):\n",
    "    Boot=[]\n",
    "    random.seed(seed)\n",
    "    for iteration in range(B):\n",
    "        boot_sample=choices(sample,k=len(sample))\n",
    "        boot_mean=np.mean(boot_sample)\n",
    "        Boot.append(boot_mean)\n",
    "    se=math.sqrt(np.var(Boot))\n",
    "    return (se,Boot)"
   ]
  },
  {
   "cell_type": "markdown",
   "metadata": {},
   "source": [
    "## Then we draw a sample from the population distribution and bootstrap it for 500 times"
   ]
  },
  {
   "cell_type": "code",
   "execution_count": 79,
   "metadata": {},
   "outputs": [
    {
     "name": "stdout",
     "output_type": "stream",
     "text": [
      "sample mean : 0.8146\n"
     ]
    }
   ],
   "source": [
    "random.seed(1)\n",
    "sample_x=sample(list(r),100)#random sample/ sample data\n",
    "est_mean=np.mean(sample_x)\n",
    "print(\"sample mean :\",round(est_mean,4))"
   ]
  },
  {
   "cell_type": "code",
   "execution_count": 80,
   "metadata": {},
   "outputs": [
    {
     "name": "stdout",
     "output_type": "stream",
     "text": [
      "boostrap estimated standard error: 0.076\n",
      "theoretical standard error: 0.0605\n",
      "relative error of estimation: 0.2554\n"
     ]
    }
   ],
   "source": [
    "test=bootstrap(sample_x,B=500,seed=1)\n",
    "theory_se=math.sqrt(var/len(sample_x))\n",
    "print(\"boostrap estimated standard error:\",round(test[0],4))\n",
    "print(\"theoretical standard error:\",round(theory_se,4))\n",
    "print(\"relative error of estimation:\",round(abs(test[0]-theory_se)/theory_se,4))"
   ]
  },
  {
   "cell_type": "markdown",
   "metadata": {},
   "source": [
    "## We repeat above process for 1000 times, and get a mean relative error of estimation about 7%"
   ]
  },
  {
   "cell_type": "code",
   "execution_count": 66,
   "metadata": {},
   "outputs": [
    {
     "name": "stdout",
     "output_type": "stream",
     "text": [
      "0.0734549\n"
     ]
    }
   ],
   "source": [
    "theory_se=math.sqrt(np.var(M))\n",
    "Relative_error=[]\n",
    "for i in range(1000):\n",
    "    random.seed(i)\n",
    "    sample_x=sample(list(r),100)\n",
    "    test=bootstrap(sample_x,B=500,seed=1)\n",
    "    Relative_error.append(round(abs(test[0]-theory_se)/theory_se,4))\n",
    "print(np.mean(Relative_error))"
   ]
  },
  {
   "cell_type": "markdown",
   "metadata": {},
   "source": [
    "## We also test on Poisson Distribution"
   ]
  },
  {
   "cell_type": "code",
   "execution_count": 81,
   "metadata": {},
   "outputs": [
    {
     "data": {
      "image/png": "[encoded data removed]",
      "text/plain": [
       "<Figure size 432x288 with 1 Axes>"
      ]
     },
     "metadata": {
      "needs_background": "light"
     },
     "output_type": "display_data"
    },
    {
     "name": "stdout",
     "output_type": "stream",
     "text": [
      "mean: 4.98\n",
      "mean square: 24.8\n",
      "var: 4.942\n"
     ]
    }
   ],
   "source": [
    "from scipy.stats import poisson\n",
    "np.random.seed(1)\n",
    "s = np.random.poisson(5, 10000)\n",
    "keys, counts = np.unique(s, return_counts=True)\n",
    "plt.bar(keys, counts)\n",
    "plt.show()\n",
    "mean=np.mean(s)\n",
    "var=np.var(s)\n",
    "stat=np.mean([x**2 for x in list(s)])#sum of x**2\n",
    "print('mean:',round(mean,3))\n",
    "print('mean square:',round(mean**2,3))\n",
    "print(\"var:\",round(var,3))\n",
    "#print('self defined statistics:',stat)\n"
   ]
  },
  {
   "cell_type": "code",
   "execution_count": 82,
   "metadata": {},
   "outputs": [],
   "source": [
    "#draw samples from real distributions\n",
    "R=[];RR=[]\n",
    "np.random.seed(1)\n",
    "for i in range(10000):\n",
    "    \n",
    "    sam=sample(list(s),100)\n",
    "    R.append(np.mean(sam)) "
   ]
  },
  {
   "cell_type": "code",
   "execution_count": 83,
   "metadata": {},
   "outputs": [
    {
     "name": "stdout",
     "output_type": "stream",
     "text": [
      "mean value: 4.9792\n",
      "se of mean value: 0.2218\n",
      "confidence interval for mean value is [4.56 , 5.42]\n"
     ]
    },
    {
     "data": {
      "image/png": "[encoded data removed]",
      "text/plain": [
       "<Figure size 432x288 with 1 Axes>"
      ]
     },
     "metadata": {
      "needs_background": "light"
     },
     "output_type": "display_data"
    }
   ],
   "source": [
    "plt.hist(R,bins=30)\n",
    "plt.axvline(np.mean(R),color='red',label='mean')\n",
    "q1=round(np.quantile(R,q=0.025),4)\n",
    "q2=round(np.quantile(R,q=0.975),4)\n",
    "plt.axvline(q1,color='green',label='95% CI')\n",
    "plt.axvline(q2,color='green')\n",
    "plt.legend()\n",
    "print('mean value:',round(np.mean(R),4))\n",
    "print(\"se of mean value:\",round(math.sqrt(np.var(R)),4))\n",
    "print('confidence interval for mean value is [{} , {}]' .format (q1,q2))"
   ]
  },
  {
   "cell_type": "markdown",
   "metadata": {},
   "source": [
    "## The mean relative error of estimation is about 6%"
   ]
  },
  {
   "cell_type": "code",
   "execution_count": 84,
   "metadata": {},
   "outputs": [],
   "source": [
    "theory_se=math.sqrt(np.var(R))\n",
    "Relative_error=[]\n",
    "for i in range(1000):\n",
    "    random.seed(i)\n",
    "    sample_x=sample(list(s),100)\n",
    "    test=bootstrap(sample_x,B=500,seed=1)\n",
    "    Relative_error.append(round(abs(test[0]-theory_se)/theory_se,4))"
   ]
  },
  {
   "cell_type": "code",
   "execution_count": 85,
   "metadata": {},
   "outputs": [
    {
     "data": {
      "text/plain": [
       "0.060665300000000005"
      ]
     },
     "execution_count": 85,
     "metadata": {},
     "output_type": "execute_result"
    }
   ],
   "source": [
    "np.mean(Relative_error)"
   ]
  }
 ],
 "metadata": {
  "kernelspec": {
   "display_name": "Python 3",
   "language": "python",
   "name": "python3"
  },
  "language_info": {
   "codemirror_mode": {
    "name": "ipython",
    "version": 3
   },
   "file_extension": ".py",
   "mimetype": "text/x-python",
   "name": "python",
   "nbconvert_exporter": "python",
   "pygments_lexer": "ipython3",
   "version": "3.8.3"
  }
 },
 "nbformat": 4,
 "nbformat_minor": 4
}

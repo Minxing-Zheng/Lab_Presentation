{
 "cells": [
  {
   "cell_type": "code",
   "execution_count": 479,
   "metadata": {},
   "outputs": [],
   "source": [
    "from scipy.stats import poisson\n",
    "import matplotlib.pyplot as plt\n",
    "import numpy as np\n",
    "import pandas as pd\n",
    "from scipy.stats import halfnorm\n",
    "from random import sample\n",
    "from random import choices\n",
    "import math\n",
    "import random\n",
    "import statistics"
   ]
  },
  {
   "cell_type": "code",
   "execution_count": 522,
   "metadata": {},
   "outputs": [
    {
     "data": {
      "image/png": "[encoded data removed]",
      "text/plain": [
       "<Figure size 432x288 with 1 Axes>"
      ]
     },
     "metadata": {
      "needs_background": "light"
     },
     "output_type": "display_data"
    },
    {
     "name": "stdout",
     "output_type": "stream",
     "text": [
      "mean: 0.795\n"
     ]
    }
   ],
   "source": [
    "fig, ax = plt.subplots(1, 1)\n",
    "mean, var, skew, kurt = halfnorm.stats(moments='mvsk')\n",
    "x = np.linspace(halfnorm.ppf(0.0001),\n",
    "                halfnorm.ppf(0.9999), 10000)\n",
    "plt.plot(x, halfnorm.pdf(x),\n",
    "       'cyan', lw=5, alpha=0.6, label='halfnorm pdf')\n",
    "#rv = halfnorm()\n",
    "#ax.plot(x, rv.pdf(x), 'k-', lw=2, label='frozen pdf')\n",
    "#vals = halfnorm.ppf([0.001, 0.5, 0.999])\n",
    "#np.allclose([0.001, 0.5, 0.999], halfnorm.cdf(vals))\n",
    "r = halfnorm.rvs(size=10000)\n",
    "ax.hist(r, density=True, histtype='stepfilled', alpha=0.5,bins=20)\n",
    "ax.axvline(np.mean(r),color='red',ls='--',lw='3',label='mean')\n",
    "ax.legend(loc='best', frameon=False)\n",
    "plt.show()\n",
    "mean=np.mean(r)\n",
    "var=np.var(r)\n",
    "print('mean:',round(mean,3))\n",
    "#print(\"var:\",round(var,3))"
   ]
  },
  {
   "cell_type": "code",
   "execution_count": 523,
   "metadata": {},
   "outputs": [
    {
     "name": "stdout",
     "output_type": "stream",
     "text": [
      "estimated mean value : 0.8146\n"
     ]
    }
   ],
   "source": [
    "random.seed(1)\n",
    "sample_x=sample(list(r),100)#random sample/ sample data\n",
    "est_mean=np.mean(sample_x)\n",
    "print(\"estimated mean value :\",round(est_mean,4))"
   ]
  },
  {
   "cell_type": "code",
   "execution_count": 524,
   "metadata": {},
   "outputs": [],
   "source": [
    "#draw samples from real distributions\n",
    "M=[]\n",
    "random.seed(1)\n",
    "for i in range(10000):\n",
    "    sample_mean=np.mean(sample(list(r),100))\n",
    "    M.append(sample_mean) "
   ]
  },
  {
   "cell_type": "code",
   "execution_count": 525,
   "metadata": {},
   "outputs": [
    {
     "name": "stdout",
     "output_type": "stream",
     "text": [
      "mean value: 0.7946\n",
      "se of mean value: 0.0599\n",
      "confidence interval for mean value is [0.6803 , 0.9138]\n"
     ]
    },
    {
     "data": {
      "image/png": "[encoded data removed]",
      "text/plain": [
       "<Figure size 432x288 with 1 Axes>"
      ]
     },
     "metadata": {
      "needs_background": "light"
     },
     "output_type": "display_data"
    }
   ],
   "source": [
    "plt.hist(M,bins=20)\n",
    "plt.axvline(np.mean(M),color='red',label='mean')\n",
    "q1=round(np.quantile(M,q=0.025),4)\n",
    "q2=round(np.quantile(M,q=0.975),4)\n",
    "plt.axvline(q1,color='green',label='lower CI')\n",
    "plt.axvline(q2,color='green',label='upper CI')\n",
    "plt.legend()\n",
    "print('mean value:',round(np.mean(M),4))\n",
    "print(\"se of mean value:\",round(math.sqrt(np.var(M)),4))\n",
    "print('confidence interval for mean value is [{} , {}]' .format (q1,q2))"
   ]
  },
  {
   "cell_type": "code",
   "execution_count": 526,
   "metadata": {},
   "outputs": [],
   "source": [
    "def bootstrap(sample,B=2000,seed=1,func=None):\n",
    "    Boot=[]\n",
    "    random.seed(seed)\n",
    "    for iteration in range(B):\n",
    "        boot_sample=choices(sample,k=len(sample))\n",
    "        boot_mean=np.mean(boot_sample)\n",
    "        Boot.append(boot_mean)\n",
    "    se=math.sqrt(np.var(Boot))\n",
    "    return (se,Boot)"
   ]
  },
  {
   "cell_type": "code",
   "execution_count": 527,
   "metadata": {},
   "outputs": [
    {
     "name": "stdout",
     "output_type": "stream",
     "text": [
      "boostrap estimated standard error: 0.0718\n",
      "theoretical standard error: 0.0605\n"
     ]
    }
   ],
   "source": [
    "test=bootstrap(sample_x,B=2000,seed=1)\n",
    "se=test[0]\n",
    "theory_se=math.sqrt(var/len(sample_x))\n",
    "print(\"boostrap estimated standard error:\",round(se,4))\n",
    "print(\"theoretical standard error:\",round(theory_se,4))"
   ]
  },
  {
   "cell_type": "code",
   "execution_count": 528,
   "metadata": {},
   "outputs": [
    {
     "data": {
      "text/plain": [
       "(array([  5.,  48., 170., 471., 549., 430., 241.,  58.,  22.,   6.]),\n",
       " array([0.57329764, 0.62501004, 0.67672244, 0.72843484, 0.78014724,\n",
       "        0.83185964, 0.88357203, 0.93528443, 0.98699683, 1.03870923,\n",
       "        1.09042163]),\n",
       " <a list of 10 Patch objects>)"
      ]
     },
     "execution_count": 528,
     "metadata": {},
     "output_type": "execute_result"
    },
    {
     "data": {
      "image/png": "[encoded data removed]",
      "text/plain": [
       "<Figure size 432x288 with 1 Axes>"
      ]
     },
     "metadata": {
      "needs_background": "light"
     },
     "output_type": "display_data"
    }
   ],
   "source": [
    "plt.hist(test[1])"
   ]
  },
  {
   "cell_type": "code",
   "execution_count": 530,
   "metadata": {},
   "outputs": [],
   "source": [
    "#bootstrap CI\n",
    "q1_est=round(np.quantile(test[1],q=0.025),4)\n",
    "q2_est=round(np.quantile(test[1],q=0.975),4)\n",
    "\n",
    "#rough CI\n",
    "q_1=round(est_mean-1.96*theory_se,4)\n",
    "q_2=round(est_mean+1.96*theory_se,4)"
   ]
  },
  {
   "cell_type": "code",
   "execution_count": 531,
   "metadata": {},
   "outputs": [
    {
     "data": {
      "text/plain": [
       "<matplotlib.legend.Legend at 0x7ff272786fa0>"
      ]
     },
     "execution_count": 531,
     "metadata": {},
     "output_type": "execute_result"
    },
    {
     "data": {
      "image/png": "[encoded data removed]",
      "text/plain": [
       "<Figure size 432x288 with 1 Axes>"
      ]
     },
     "metadata": {
      "needs_background": "light"
     },
     "output_type": "display_data"
    }
   ],
   "source": [
    "plt.hist(test[1],bins=20)\n",
    "plt.axvline(q1_est,color='r',label='estiamted lower CI')\n",
    "plt.axvline(q2_est,color='r',label='estiamted upper CI')\n",
    "#plt.axvline(q1,color='green',label='lower CI')\n",
    "#plt.axvline(q2,color='green',label='upper CI')\n",
    "plt.axvline(np.mean(test[1]),color='yellow')\n",
    "plt.legend(loc='best')\n"
   ]
  },
  {
   "cell_type": "code",
   "execution_count": 532,
   "metadata": {
    "scrolled": true
   },
   "outputs": [
    {
     "name": "stdout",
     "output_type": "stream",
     "text": [
      "real CI [0.6803 , 0.9138]\n",
      "estimated CI [0.6752 , 0.9554]\n",
      "rough CI [0.696 , 0.9332]\n"
     ]
    }
   ],
   "source": [
    "print('real CI [{} , {}]' .format (q1,q2))\n",
    "print('estimated CI [{} , {}]' .format (q1_est,q2_est))\n",
    "print('rough CI [{} , {}]' .format (q_1,q_2))"
   ]
  },
  {
   "cell_type": "code",
   "execution_count": null,
   "metadata": {},
   "outputs": [],
   "source": []
  },
  {
   "cell_type": "code",
   "execution_count": null,
   "metadata": {},
   "outputs": [],
   "source": []
  },
  {
   "cell_type": "markdown",
   "metadata": {},
   "source": [
    "## Poisson"
   ]
  },
  {
   "cell_type": "code",
   "execution_count": 474,
   "metadata": {},
   "outputs": [
    {
     "data": {
      "image/png": "[encoded data removed]",
      "text/plain": [
       "<Figure size 432x288 with 1 Axes>"
      ]
     },
     "metadata": {
      "needs_background": "light"
     },
     "output_type": "display_data"
    },
    {
     "name": "stdout",
     "output_type": "stream",
     "text": [
      "mean: 4.98\n",
      "var: 4.942\n"
     ]
    }
   ],
   "source": [
    "from scipy.stats import poisson\n",
    "np.random.seed(1)\n",
    "s = np.random.poisson(5, 10000)\n",
    "keys, counts = np.unique(s, return_counts=True)\n",
    "plt.bar(keys, counts)\n",
    "plt.show()\n",
    "mean=np.mean(s)\n",
    "var=np.var(s)\n",
    "stat=np.mean([x**2 for x in list(s)])#sum of x**2\n",
    "print('mean:',round(mean,3))\n",
    "print('mean square:',round(mean**2,3))\n",
    "print(\"var:\",round(var,3))\n",
    "#print('self defined statistics:',stat)\n"
   ]
  },
  {
   "cell_type": "code",
   "execution_count": null,
   "metadata": {},
   "outputs": [],
   "source": [
    "#5*5+5=30 real value"
   ]
  },
  {
   "cell_type": "code",
   "execution_count": 507,
   "metadata": {},
   "outputs": [],
   "source": [
    "#draw samples from real distributions\n",
    "#M=[];V=[]\n",
    "R=[]\n",
    "np.random.seed(1)\n",
    "for i in range(10000):\n",
    "    \n",
    "    sam=sample(list(s),100)\n",
    "    r=sum([x**2 for x in sam])/len(sam)\n",
    "    R.append(r) \n",
    "\n",
    "    #sample_var=np.var(sam,ddof=1)\n",
    "    #sample_mean=np.mean(sam)\n",
    "    #M.append(sample_mean)\n",
    "    #V.append(sample_var)\n",
    "\n",
    "    "
   ]
  },
  {
   "cell_type": "code",
   "execution_count": 508,
   "metadata": {},
   "outputs": [
    {
     "name": "stdout",
     "output_type": "stream",
     "text": [
      "mean value: 29.7319\n",
      "se of mean value: 2.5028\n",
      "confidence interval for mean value is [25.0998 , 34.9002]\n"
     ]
    },
    {
     "data": {
      "image/png": "[encoded data removed]",
      "text/plain": [
       "<Figure size 432x288 with 1 Axes>"
      ]
     },
     "metadata": {
      "needs_background": "light"
     },
     "output_type": "display_data"
    }
   ],
   "source": [
    "plt.hist(R,bins=30)\n",
    "plt.axvline(np.mean(R),color='red',label='mean')\n",
    "q1=round(np.quantile(R,q=0.025),4)\n",
    "q2=round(np.quantile(R,q=0.975),4)\n",
    "plt.axvline(q1,color='green',label='lower CI')\n",
    "plt.axvline(q2,color='green',label='upper CI')\n",
    "plt.legend()\n",
    "print('mean value:',round(np.mean(R),4))\n",
    "print(\"se of mean value:\",round(math.sqrt(np.var(R)),4))\n",
    "print('confidence interval for mean value is [{} , {}]' .format (q1,q2))"
   ]
  },
  {
   "cell_type": "code",
   "execution_count": 482,
   "metadata": {},
   "outputs": [],
   "source": [
    "def bootstrap_var(sample,B=2000,seed=1,func=None):\n",
    "    Boot=[]\n",
    "    random.seed(seed)\n",
    "    for iteration in range(B):\n",
    "        boot_sample=choices(sample,k=len(sample))\n",
    "        boot_var=np.var(boot_sample,ddof=1)\n",
    "        Boot.append(boot_var)\n",
    "    se=math.sqrt(np.var(Boot))\n",
    "    return (se,Boot)"
   ]
  },
  {
   "cell_type": "code",
   "execution_count": 509,
   "metadata": {},
   "outputs": [],
   "source": [
    "def bootstrap_ex2(sample,B=2000,seed=1,func=None):\n",
    "    Boot=[]\n",
    "    random.seed(seed)\n",
    "    for iteration in range(B):\n",
    "        boot_sample=choices(sample,k=len(sample))\n",
    "        boot_ex2=sum([x**2 for x in boot_sample])/len(boot_sample)\n",
    "        Boot.append(boot_ex2)\n",
    "    se=math.sqrt(np.var(Boot))\n",
    "    return (se,Boot)"
   ]
  },
  {
   "cell_type": "code",
   "execution_count": 516,
   "metadata": {},
   "outputs": [
    {
     "name": "stdout",
     "output_type": "stream",
     "text": [
      "31.2\n"
     ]
    }
   ],
   "source": [
    "random.seed(4)\n",
    "sample_x=sample(list(s),100)\n",
    "est_mean=sum([x**2 for x in sample_x])/len(sample_x)\n",
    "#print(\"estimated mean:\",round(est_mean,4))\n",
    "#print(\"estimated var:\",round(np.var(sample_x,ddof=1),4))\n",
    "print(est_mean)"
   ]
  },
  {
   "cell_type": "code",
   "execution_count": 512,
   "metadata": {},
   "outputs": [
    {
     "name": "stdout",
     "output_type": "stream",
     "text": [
      "boostrap estimated standard error: 2.6662\n"
     ]
    }
   ],
   "source": [
    "test=bootstrap_ex2(sample_x,B=3000,seed=1)\n",
    "se=test[0]\n",
    "#theory_se=math.sqrt(var/len(sample_x))\n",
    "print(\"boostrap estimated standard error:\",round(se,4))\n",
    "#print(\"standard error:\",round(theory_se,4))"
   ]
  },
  {
   "cell_type": "code",
   "execution_count": 517,
   "metadata": {},
   "outputs": [],
   "source": [
    "#bootstrap CI\n",
    "q1_est=round(np.quantile(test[1],q=0.025),4)\n",
    "q2_est=round(np.quantile(test[1],q=0.975),4)\n",
    "\n",
    "#rough CI\n",
    "q_1=round(est_mean-1.96*se,4)\n",
    "q_2=round(est_mean+1.96*se,4)"
   ]
  },
  {
   "cell_type": "code",
   "execution_count": 518,
   "metadata": {},
   "outputs": [
    {
     "data": {
      "text/plain": [
       "<matplotlib.legend.Legend at 0x7ff272210d90>"
      ]
     },
     "execution_count": 518,
     "metadata": {},
     "output_type": "execute_result"
    },
    {
     "data": {
      "image/png": "[encoded data removed]",
      "text/plain": [
       "<Figure size 432x288 with 1 Axes>"
      ]
     },
     "metadata": {
      "needs_background": "light"
     },
     "output_type": "display_data"
    }
   ],
   "source": [
    "plt.hist(test[1],bins=20)\n",
    "plt.axvline(q1_est,color='r',label='estiamted lower CI')\n",
    "plt.axvline(q2_est,color='r',label='estiamted upper CI')\n",
    "plt.axvline(q1,color='green',label='lower CI')\n",
    "plt.axvline(q2,color='green',label='upper CI')\n",
    "plt.axvline(np.mean(test[1]),color='yellow')\n",
    "plt.legend(loc='best')\n"
   ]
  },
  {
   "cell_type": "code",
   "execution_count": 519,
   "metadata": {},
   "outputs": [
    {
     "name": "stdout",
     "output_type": "stream",
     "text": [
      "real CI [25.0998 , 34.9002]\n",
      "estimated CI [26.1097 , 36.5302]\n",
      "rough CI [25.9742 , 36.4258]\n"
     ]
    }
   ],
   "source": [
    "print('real CI [{} , {}]' .format (q1,q2))\n",
    "print('estimated CI [{} , {}]' .format (q1_est,q2_est))\n",
    "print('rough CI [{} , {}]' .format (q_1,q_2))"
   ]
  },
  {
   "cell_type": "markdown",
   "metadata": {},
   "source": [
    "plt.hist(V,bins=30)\n",
    "plt.axvline(np.mean(V),color='red',label='mean')\n",
    "q1=round(np.quantile(V,q=0.025),4)\n",
    "q2=round(np.quantile(V,q=0.975),4)\n",
    "plt.axvline(q1,color='green',label='lower CI')\n",
    "plt.axvline(q2,color='green',label='upper CI')\n",
    "plt.legend()\n",
    "print('mean value:',round(np.mean(V),4))\n",
    "print(\"se of mean value:\",round(math.sqrt(np.var(V)),4))\n",
    "print('confidence interval for mean value is [{} , {}]' .format (q1,q2))"
   ]
  },
  {
   "cell_type": "code",
   "execution_count": null,
   "metadata": {},
   "outputs": [],
   "source": []
  }
 ],
 "metadata": {
  "kernelspec": {
   "display_name": "Python 3",
   "language": "python",
   "name": "python3"
  },
  "language_info": {
   "codemirror_mode": {
    "name": "ipython",
    "version": 3
   },
   "file_extension": ".py",
   "mimetype": "text/x-python",
   "name": "python",
   "nbconvert_exporter": "python",
   "pygments_lexer": "ipython3",
   "version": "3.8.3"
  }
 },
 "nbformat": 4,
 "nbformat_minor": 4
}
